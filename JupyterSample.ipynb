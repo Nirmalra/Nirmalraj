{
  "metadata": {
    "language_info": {
      "codemirror_mode": {
        "name": "python",
        "version": 3
      },
      "file_extension": ".py",
      "mimetype": "text/x-python",
      "name": "python",
      "nbconvert_exporter": "python",
      "pygments_lexer": "ipython3",
      "version": "3.8"
    },
    "kernelspec": {
      "name": "python",
      "display_name": "Pyolite",
      "language": "python"
    }
  },
  "nbformat_minor": 4,
  "nbformat": 4,
  "cells": [
    {
      "cell_type": "markdown",
      "source": "<h1>My Jupyter Notebook on IBM Watson Studio</h1>",
      "metadata": {}
    },
    {
      "cell_type": "markdown",
      "source": "<h2>NIRMALRAJ A R</h2>\nSOFTWARE ENGINEER",
      "metadata": {}
    },
    {
      "cell_type": "markdown",
      "source": "I am interested in data science because this is the growing and highest paying job in India and also all over the world",
      "metadata": {}
    },
    {
      "cell_type": "markdown",
      "source": "<h3>Simple Addition Program</h3>",
      "metadata": {}
    },
    {
      "cell_type": "code",
      "source": "a = 55\nb= 35\nc = a+b\nprint(c)",
      "metadata": {
        "trusted": true
      },
      "execution_count": 1,
      "outputs": [
        {
          "name": "stdout",
          "text": "90\n",
          "output_type": "stream"
        }
      ]
    },
    {
      "cell_type": "markdown",
      "source": "<table>\n    <tr>\n        <th>Name</th>\n        <th>Age</th>\n    </tr>\n    <tr>\n        <td>Arjun</td>\n        <td>23</td>\n    </tr>\n    <tr>\n        <td>Vijay</td>\n        <td>27</td>\n    </tr>\n</table>\n<ul>\n    <li>Java</li>\n    <li>Python</li>\n    <li>C++</li>\n</ul>\n<a href=\"https://www.coursera.org/\">Coursera</a>",
      "metadata": {}
    },
    {
      "cell_type": "code",
      "source": "",
      "metadata": {},
      "execution_count": null,
      "outputs": []
    }
  ]
}